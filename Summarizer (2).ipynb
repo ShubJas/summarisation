{
  "cells": [
    {
      "cell_type": "code",
      "execution_count": 16,
      "metadata": {
        "id": "oREwJxOWQdKs"
      },
      "outputs": [],
      "source": [
        "!pip install transformers[sentencepiece] protobuf==3.20.3 datasets rouge_score py7zr  -q\n",
        "\n",
        "# !pip install transformers[sentencepiece] datasets sacrebleu rouge_score py7zr -q"
      ]
    },
    {
      "cell_type": "code",
      "execution_count": 17,
      "metadata": {
        "colab": {
          "base_uri": "https://localhost:8080/"
        },
        "id": "zlUZGIsWTLcO",
        "outputId": "89b3b704-f3c2-41da-e0c0-3189d690dbfb"
      },
      "outputs": [
        {
          "output_type": "stream",
          "name": "stderr",
          "text": [
            "[nltk_data] Downloading package punkt to /root/nltk_data...\n",
            "[nltk_data]   Package punkt is already up-to-date!\n"
          ]
        },
        {
          "output_type": "execute_result",
          "data": {
            "text/plain": [
              "True"
            ]
          },
          "metadata": {},
          "execution_count": 17
        }
      ],
      "source": [
        "# set seed to predict the same output everytime\n",
        "from transformers import pipeline , set_seed\n",
        "\n",
        "# for data manuplation and analysis\n",
        "import pandas as pd\n",
        "\n",
        "# library for NLP that provides tools for text processing, such as tokenization, stemming, and parsing\n",
        "import nltk\n",
        "\n",
        "# To load dataset from collection of pre-built datasets and evaluation metrics\n",
        "from datasets import load_dataset, load_metric\n",
        "\n",
        "# imports the AutoModelForSeq2SeqLM and AutoTokenizer classes from the transformers module\n",
        "from transformers import AutoModelForSeq2SeqLM, AutoTokenizer\n",
        "\n",
        "# imports the sent_tokenize function from the nltk.tokenize module. This function is used for tokenizing text into sentences.\n",
        "from nltk.tokenize import sent_tokenize\n",
        "\n",
        "# downloads the punkt package needed for sent_tokenize, which contains pre-trained models for tokenizing text into sentences and words.\n",
        "nltk.download(\"punkt\")"
      ]
    },
    {
      "cell_type": "code",
      "execution_count": 18,
      "metadata": {
        "colab": {
          "referenced_widgets": [
            "9fbec41ba18d4c55924ed355be70245f",
            "81727946551e4060b946bff12409c818",
            "5e99969751e44de3b080add9a3134163",
            "5537b715f33c4612a6fa720e87045dcc",
            "8f0c08a12f284bfc908d8b508913e403",
            "ca1e2b184c60492db126bf698ec6272b",
            "520bd6136ac54ace86415bf7bf64cd9d",
            "48b617e612894d15a5872a4b9d1b4c4b",
            "97b16ce6e64a4e0aa8bfa9e3dcfa4833",
            "876af11d96c14bae8e0b28fc2d8e80ae",
            "52639c505a40411393eae148560ab48f"
          ],
          "base_uri": "https://localhost:8080/",
          "height": 86
        },
        "id": "fM3GCKVQUj4h",
        "outputId": "7b7f1ad7-30cb-4e61-ff6a-34807c1f5f48"
      },
      "outputs": [
        {
          "output_type": "stream",
          "name": "stderr",
          "text": [
            "WARNING:datasets.builder:Found cached dataset cnn_dailymail (/root/.cache/huggingface/datasets/cnn_dailymail/default/3.0.0/1b3c71476f6d152c31c1730e83ccb08bcf23e348233f4fcc11e182248e6bf7de)\n"
          ]
        },
        {
          "output_type": "display_data",
          "data": {
            "text/plain": [
              "  0%|          | 0/3 [00:00<?, ?it/s]"
            ],
            "application/vnd.jupyter.widget-view+json": {
              "version_major": 2,
              "version_minor": 0,
              "model_id": "9fbec41ba18d4c55924ed355be70245f"
            }
          },
          "metadata": {}
        }
      ],
      "source": [
        "from datasets import load_dataset\n",
        "\n",
        "# loading the CNN/DailyMail dataset\n",
        "dataset= load_dataset(\"cnn_dailymail\", version=\"3.0.0\")\n",
        "\n"
      ]
    },
    {
      "cell_type": "code",
      "execution_count": 19,
      "metadata": {
        "colab": {
          "base_uri": "https://localhost:8080/"
        },
        "id": "SgkgGWULzYfk",
        "outputId": "614aa956-a09f-4556-b66b-ec875e397566"
      },
      "outputs": [
        {
          "output_type": "stream",
          "name": "stdout",
          "text": [
            "features are- ['article', 'highlights', 'id']\n"
          ]
        }
      ],
      "source": [
        "# The resulting dataset object is a dictionary-like object that contains several splits of the dataset, such as \"train\", \"validation\", and \"test\".\n",
        "print(f\"features are- {dataset['train'].column_names}\")"
      ]
    },
    {
      "cell_type": "code",
      "execution_count": 19,
      "metadata": {
        "id": "Ihif4pLYUY7a"
      },
      "outputs": [],
      "source": []
    },
    {
      "cell_type": "code",
      "execution_count": 20,
      "metadata": {
        "id": "Ux_0GnoSdwAH"
      },
      "outputs": [],
      "source": [
        "# creating a summarization pipeline object using the Hugging Face Transformers library(importing and loading pretrained model)\n",
        "pipe = pipeline('summarization', model=\"google/pegasus-cnn_dailymail\")\n"
      ]
    },
    {
      "cell_type": "code",
      "execution_count": 21,
      "metadata": {
        "colab": {
          "base_uri": "https://localhost:8080/"
        },
        "id": "yfsa1bEhzUtT",
        "outputId": "f2ffc027-df25-451f-b471-cae7f77ea644"
      },
      "outputs": [
        {
          "output_type": "stream",
          "name": "stdout",
          "text": [
            "[{'summary_text': 'Harry Potter star Daniel Radcliffe gains access to a reported £20 million fortune .<n>The young actor says he has no plans to fritter his cash away .<n>Radcliffe: \"I don\\'t think I\\'ll be particularly extravagant\"'}]\n"
          ]
        }
      ],
      "source": [
        "#  takes the first 1000 characters of that 1st article in training set\n",
        "sample_text= dataset['train'][0]['article'][:1000]\n",
        "\n",
        "# testing model on sample\n",
        "pipe_out= pipe(sample_text)\n",
        "\n",
        "# printing predicted summary\n",
        "print(pipe_out)"
      ]
    },
    {
      "cell_type": "code",
      "execution_count": 22,
      "metadata": {
        "colab": {
          "base_uri": "https://localhost:8080/"
        },
        "id": "JptqaPKSfau5",
        "outputId": "c3c42608-fa50-4131-bc7e-35c611a02501"
      },
      "outputs": [
        {
          "metadata": {
            "tags": null
          },
          "name": "stdout",
          "output_type": "stream",
          "text": [
            "Harry Potter star Daniel Radcliffe gains access to a reported £20 million fortune .\n",
            "The young actor says he has no plans to fritter his cash away .\n",
            "Radcliffe: \"I don't think I'll be particularly extravagant\"\n"
          ]
        }
      ],
      "source": [
        "# retrieves the summary and makes it more readable\n",
        "# string method to replace special separator tokens used by the Pegasus model to separate sentences in the summary text with newline characters. \n",
        "print(pipe_out[0][\"summary_text\"].replace(\".<n>\", \".\\n\"))"
      ]
    },
    {
      "cell_type": "code",
      "execution_count": 23,
      "metadata": {
        "colab": {
          "base_uri": "https://localhost:8080/"
        },
        "id": "_WkTwsIrM8qL",
        "outputId": "54016ae6-8017-46c7-ea70-27068e0dde2e"
      },
      "outputs": [
        {
          "metadata": {
            "tags": null
          },
          "name": "stdout",
          "output_type": "stream",
          "text": [
            "LONDON, England (Reuters) -- Harry Potter star Daniel Radcliffe gains access to a reported £20 million ($41.\n",
            "1 million) fortune as he turns 18 on Monday, but he insists the money won't cast a spell on him.\n",
            " Daniel Radcliffe as Harry Potter in \"Harry Potter and the Order of the Phoenix\" To the disappointment of gossip columnists around the world, the young actor says he has no plans to fritter his cash away on fast cars, drink and celebrity parties.\n",
            " \"I don't plan to be one of those people who, as soon as they turn 18, suddenly buy themselves a massive sports car collection or something similar,\" he told an Australian interviewer earlier this month.\n",
            " \"I don't think I'll be particularly extravagant.\n",
            " \"The things I like buying are things that cost about 10 pounds -- books and CDs and DVDs.\n",
            "\" At 18, Radcliffe will be able to gamble in a casino, buy a drink in a pub or see the horror film \"Hostel: Part II,\" currently six places below his number one movie on the UK box office chart.\n",
            " Details of how he'll mark his landmark birthday are under wraps.\n",
            " His agent and publicist had no comment on his plans.\n",
            " \"I'll definitely have some sort of party,\" he said in an interview.\n",
            " \"Hopefully none of you will be reading about it.\n",
            "\" Radcliffe's earnings from the first five Potter films have been held in a trust fund which he has not been able to touch.\n",
            " Despite his growing fame and riches, the actor says he is keeping his feet firmly on the ground.\n",
            " \"People are always looking to say 'kid star goes off the rails,'\" he told reporters last month.\n",
            " \"But I try very hard not to go that way because it would be too easy for them.\n",
            "\" His latest outing as the boy wizard in \"Harry Potter and the Order of the Phoenix\" is breaking records on both sides of the Atlantic and he will reprise the role in the last two films.\n",
            "  Watch I-Reporter give her review of Potter's latest » .\n",
            " There is life beyond Potter, however.\n",
            " The Londoner has filmed a TV movie called \"My Boy Jack,\" about author Rudyard Kipling and his son, due for release later this year.\n",
            " He will also appear in \"December Boys,\" an Australian film about four boys who escape an orphanage.\n",
            " Earlier this year, he made his stage debut playing a tortured teenager in Peter Shaffer's \"Equus.\n",
            "\" Meanwhile, he is braced for even closer media scrutiny now that he's legally an adult: \"I just think I'm going to be more sort of fair game,\" he told Reuters.\n",
            " E-mail to a friend .\n",
            " Copyright 2007 Reuters.\n",
            " All rights reserved.\n",
            "This material may not be published, broadcast, rewritten, or redistributed.\n",
            "\n"
          ]
        }
      ],
      "source": [
        "print(dataset['train'][0]['article'].replace(\".\", \".\\n\"))"
      ]
    },
    {
      "cell_type": "code",
      "execution_count": 24,
      "metadata": {
        "colab": {
          "base_uri": "https://localhost:8080/"
        },
        "id": "XdDFeY67h1dm",
        "outputId": "4b5f33e6-7a3b-4066-b284-31c1bf5314af"
      },
      "outputs": [
        {
          "metadata": {
            "tags": null
          },
          "name": "stdout",
          "output_type": "stream",
          "text": [
            "Harry Potter star Daniel Radcliffe gets £20M fortune as he turns 18 Monday .\n",
            "Young actor says he has no plans to fritter his cash away .\n",
            "Radcliffe's earnings from first five Potter films have been held in trust fund .\n"
          ]
        }
      ],
      "source": [
        "# original summary for evaluating the quality of the summary generated by a the model\n",
        "reference= dataset['train'][0]['highlights']\n",
        "\n",
        "print(reference)\n"
      ]
    },
    {
      "cell_type": "code",
      "execution_count": 25,
      "metadata": {
        "id": "tOaBbFX8kYxS"
      },
      "outputs": [],
      "source": [
        "# loading the ROUGE metric from the datasets library\n",
        "rouge_metric= load_metric('rouge')\n",
        "\n",
        "#  adding prediction-reference pair to the rouge_metric object, which will be used to compute the ROUGE scores\n",
        "rouge_metric.add(prediction=pipe_out[0][\"summary_text\"].replace(\".<n>\", \".\\n\"),reference=reference )\n",
        "\n",
        "# computing the ROUGE scores for the prediction-reference pair\n",
        "score= rouge_metric.compute()\n",
        "\n"
      ]
    },
    {
      "cell_type": "code",
      "execution_count": 26,
      "metadata": {
        "colab": {
          "base_uri": "https://localhost:8080/",
          "height": 115
        },
        "id": "gefWQkYAzKo1",
        "outputId": "03b3fa5c-6f37-40c3-9453-a76593d19b72"
      },
      "outputs": [
        {
          "output_type": "stream",
          "name": "stdout",
          "text": [
            "Testing on 1st article only\n",
            "\n"
          ]
        },
        {
          "output_type": "execute_result",
          "data": {
            "text/plain": [
              "           rouge1    rouge2    rougeL  rougeLsum\n",
              "Pegasus  0.506667  0.438356  0.506667   0.506667"
            ],
            "text/html": [
              "\n",
              "  <div id=\"df-0a19c54a-df48-4dfd-aba6-7963ee8faf58\">\n",
              "    <div class=\"colab-df-container\">\n",
              "      <div>\n",
              "<style scoped>\n",
              "    .dataframe tbody tr th:only-of-type {\n",
              "        vertical-align: middle;\n",
              "    }\n",
              "\n",
              "    .dataframe tbody tr th {\n",
              "        vertical-align: top;\n",
              "    }\n",
              "\n",
              "    .dataframe thead th {\n",
              "        text-align: right;\n",
              "    }\n",
              "</style>\n",
              "<table border=\"1\" class=\"dataframe\">\n",
              "  <thead>\n",
              "    <tr style=\"text-align: right;\">\n",
              "      <th></th>\n",
              "      <th>rouge1</th>\n",
              "      <th>rouge2</th>\n",
              "      <th>rougeL</th>\n",
              "      <th>rougeLsum</th>\n",
              "    </tr>\n",
              "  </thead>\n",
              "  <tbody>\n",
              "    <tr>\n",
              "      <th>Pegasus</th>\n",
              "      <td>0.506667</td>\n",
              "      <td>0.438356</td>\n",
              "      <td>0.506667</td>\n",
              "      <td>0.506667</td>\n",
              "    </tr>\n",
              "  </tbody>\n",
              "</table>\n",
              "</div>\n",
              "      <button class=\"colab-df-convert\" onclick=\"convertToInteractive('df-0a19c54a-df48-4dfd-aba6-7963ee8faf58')\"\n",
              "              title=\"Convert this dataframe to an interactive table.\"\n",
              "              style=\"display:none;\">\n",
              "        \n",
              "  <svg xmlns=\"http://www.w3.org/2000/svg\" height=\"24px\"viewBox=\"0 0 24 24\"\n",
              "       width=\"24px\">\n",
              "    <path d=\"M0 0h24v24H0V0z\" fill=\"none\"/>\n",
              "    <path d=\"M18.56 5.44l.94 2.06.94-2.06 2.06-.94-2.06-.94-.94-2.06-.94 2.06-2.06.94zm-11 1L8.5 8.5l.94-2.06 2.06-.94-2.06-.94L8.5 2.5l-.94 2.06-2.06.94zm10 10l.94 2.06.94-2.06 2.06-.94-2.06-.94-.94-2.06-.94 2.06-2.06.94z\"/><path d=\"M17.41 7.96l-1.37-1.37c-.4-.4-.92-.59-1.43-.59-.52 0-1.04.2-1.43.59L10.3 9.45l-7.72 7.72c-.78.78-.78 2.05 0 2.83L4 21.41c.39.39.9.59 1.41.59.51 0 1.02-.2 1.41-.59l7.78-7.78 2.81-2.81c.8-.78.8-2.07 0-2.86zM5.41 20L4 18.59l7.72-7.72 1.47 1.35L5.41 20z\"/>\n",
              "  </svg>\n",
              "      </button>\n",
              "      \n",
              "  <style>\n",
              "    .colab-df-container {\n",
              "      display:flex;\n",
              "      flex-wrap:wrap;\n",
              "      gap: 12px;\n",
              "    }\n",
              "\n",
              "    .colab-df-convert {\n",
              "      background-color: #E8F0FE;\n",
              "      border: none;\n",
              "      border-radius: 50%;\n",
              "      cursor: pointer;\n",
              "      display: none;\n",
              "      fill: #1967D2;\n",
              "      height: 32px;\n",
              "      padding: 0 0 0 0;\n",
              "      width: 32px;\n",
              "    }\n",
              "\n",
              "    .colab-df-convert:hover {\n",
              "      background-color: #E2EBFA;\n",
              "      box-shadow: 0px 1px 2px rgba(60, 64, 67, 0.3), 0px 1px 3px 1px rgba(60, 64, 67, 0.15);\n",
              "      fill: #174EA6;\n",
              "    }\n",
              "\n",
              "    [theme=dark] .colab-df-convert {\n",
              "      background-color: #3B4455;\n",
              "      fill: #D2E3FC;\n",
              "    }\n",
              "\n",
              "    [theme=dark] .colab-df-convert:hover {\n",
              "      background-color: #434B5C;\n",
              "      box-shadow: 0px 1px 3px 1px rgba(0, 0, 0, 0.15);\n",
              "      filter: drop-shadow(0px 1px 2px rgba(0, 0, 0, 0.3));\n",
              "      fill: #FFFFFF;\n",
              "    }\n",
              "  </style>\n",
              "\n",
              "      <script>\n",
              "        const buttonEl =\n",
              "          document.querySelector('#df-0a19c54a-df48-4dfd-aba6-7963ee8faf58 button.colab-df-convert');\n",
              "        buttonEl.style.display =\n",
              "          google.colab.kernel.accessAllowed ? 'block' : 'none';\n",
              "\n",
              "        async function convertToInteractive(key) {\n",
              "          const element = document.querySelector('#df-0a19c54a-df48-4dfd-aba6-7963ee8faf58');\n",
              "          const dataTable =\n",
              "            await google.colab.kernel.invokeFunction('convertToInteractive',\n",
              "                                                     [key], {});\n",
              "          if (!dataTable) return;\n",
              "\n",
              "          const docLinkHtml = 'Like what you see? Visit the ' +\n",
              "            '<a target=\"_blank\" href=https://colab.research.google.com/notebooks/data_table.ipynb>data table notebook</a>'\n",
              "            + ' to learn more about interactive tables.';\n",
              "          element.innerHTML = '';\n",
              "          dataTable['output_type'] = 'display_data';\n",
              "          await google.colab.output.renderOutput(dataTable, element);\n",
              "          const docLink = document.createElement('div');\n",
              "          docLink.innerHTML = docLinkHtml;\n",
              "          element.appendChild(docLink);\n",
              "        }\n",
              "      </script>\n",
              "    </div>\n",
              "  </div>\n",
              "  "
            ]
          },
          "metadata": {},
          "execution_count": 26
        }
      ],
      "source": [
        "rouge_names= [\"rouge1\",\"rouge2\",\"rougeL\",\"rougeLsum\"]\n",
        "\n",
        "# creating a dictionary mapping each ROUGE metric name to its computed rouge\n",
        "# calculating the mid-level F1 score averaged across all examples in the dataset\n",
        "rouge_dict = dict((rn, score[rn].mid.fmeasure ) for rn in rouge_names )\n",
        "# print('rouge_dict ', rouge_dict )\n",
        "rec=[]\n",
        "rec.append(rouge_dict)\n",
        "\n",
        "print(\"Testing on 1st article only\\n\")\n",
        "\n",
        "# display rouge accuracy\n",
        "pd.DataFrame.from_records(rec,index=['Pegasus'])\n"
      ]
    },
    {
      "cell_type": "markdown",
      "metadata": {
        "id": "7IbWCCavnwJK"
      },
      "source": [
        "# Evaluating accuracy on first 1000 articles"
      ]
    },
    {
      "cell_type": "code",
      "execution_count": 27,
      "metadata": {
        "colab": {
          "base_uri": "https://localhost:8080/"
        },
        "id": "ArLOWyoXplKK",
        "outputId": "796d9faf-122e-46c2-a0c3-6859f34c9c5f"
      },
      "outputs": [
        {
          "output_type": "stream",
          "name": "stderr",
          "text": [
            "WARNING:datasets.arrow_dataset:Loading cached shuffled indices for dataset at /root/.cache/huggingface/datasets/cnn_dailymail/default/3.0.0/1b3c71476f6d152c31c1730e83ccb08bcf23e348233f4fcc11e182248e6bf7de/cache-c98764b7079899be.arrow\n"
          ]
        }
      ],
      "source": [
        "# selecting a random subset of 1000 examples from the training datase\n",
        "test_subset = dataset['train'].shuffle(seed = 42).select(range(1000))"
      ]
    },
    {
      "cell_type": "code",
      "execution_count": 28,
      "metadata": {
        "id": "V-_7AZVkpQQG"
      },
      "outputs": [],
      "source": [
        "# Python library that provides a progress bar that can be used to track the progress\n",
        "from tqdm import tqdm\n",
        "\n",
        "# importing the PyTorch library\n",
        "import torch\n",
        "\n",
        "# using NVIDIAs parallel computing GPU platform if avalable\n",
        "device = \"cuda\" if torch.cuda.is_available() else \"cpu\"\n",
        "\n",
        "# spliting the dataset into smaller batches that we can process simultaneously\n",
        "def generate_batchs(list_of_elements, batch_size):\n",
        "    for i in range(0, len(list_of_elements), batch_size):\n",
        "        # creating a generator object that produces sub-lists of batch sized elements\n",
        "        yield list_of_elements[i : i + batch_size]\n",
        "\n",
        "# function to calculate metrics on test dataset\n",
        "def calculate_metrics(dataset, metric, model, tokenizer, batch_size=16, device=device):\n",
        "\n",
        "    # splitting the articles and their summaries into batches\n",
        "    article_batches = list(generate_batchs(dataset[\"article\"], batch_size))\n",
        "    summary_batches = list(generate_batchs(dataset[\"highlights\"], batch_size))\n",
        "\n",
        "\n",
        "    # for keeping track of progress on iteration\n",
        "    for article_batch, summary_batch in tqdm(\n",
        "        \n",
        "        # creating an iterator of tuples where each tuple contains one batch of articles and one batch of target summaries.  \n",
        "        zip(article_batches, summary_batches), total=len(article_batches)):\n",
        "        \n",
        "        # creating  PyTorch tensors by tokenizing articles into sequences of same length\n",
        "        inputs = tokenizer(article_batch, max_length=1024, truncation=True, padding=\"max_length\", return_tensors=\"pt\")\n",
        "        \n",
        "\n",
        "\n",
        "        # function to generate a tensor of token ids representing the summary.\n",
        "        summaries = model.generate(input_ids=inputs[\"input_ids\"].to(device), attention_mask=inputs[\"attention_mask\"].to(device), length_penalty=0.8, num_beams=8, max_length=128)\n",
        "        # specifying which tokens in the input sequence should be attended-considered(1) by the using attention_mask \n",
        "        # initializing length_penalty to penalize longer output sequences.(longer or shorter summaries)\n",
        "        # initializing number of beams to use during beam search decoding.\n",
        "        # truncating the generated sequence if the model generates a sequence that is longer than max_length\n",
        "        \n",
        "        # decoding the generated summary tokens using the tokenizer's decode method. \n",
        "        decoded_summaries = [tokenizer.decode(s, skip_special_tokens=True, clean_up_tokenization_spaces=True) for s in summaries]      \n",
        "        # skipping any special tokens, such as padding tokens by setting skip_special_tokens argument \n",
        "        # removeing unnecessary whitespaces added during tokenization by setting clean_up_tokenization_spaces argument\n",
        "\n",
        "\n",
        "        # replacing <n> tokens to ensure that the generated summaries are comparable to the reference summaries\n",
        "        decoded_summaries = [d.replace(\"<n>\", \" \") for d in decoded_summaries]\n",
        "        \n",
        "        # adding the decoded summaries to the metric, along with the corresponding reference summaries\n",
        "        metric.add_batch(predictions=decoded_summaries, references=summary_batch)\n",
        "        \n",
        "    #  computing and returning the ROUGE scores\n",
        "    score = metric.compute()\n",
        "    return score"
      ]
    },
    {
      "cell_type": "code",
      "execution_count": 14,
      "metadata": {
        "colab": {
          "base_uri": "https://localhost:8080/"
        },
        "id": "Q2f4PAzSpdDb",
        "outputId": "36639bef-44f5-4f8e-dd27-2726f281c618"
      },
      "outputs": [
        {
          "output_type": "stream",
          "name": "stderr",
          "text": [
            "100%|██████████| 125/125 [23:07<00:00, 11.10s/it]\n"
          ]
        }
      ],
      "source": [
        "# Loading checkpoint of the pre-trained Pegasus model\n",
        "model_ckpt = \"google/pegasus-cnn_dailymail\"\n",
        "\n",
        "# initializing a tokenizer object specific to the Pegasus model\n",
        "tokenizer = AutoTokenizer.from_pretrained(model_ckpt)\n",
        "\n",
        "# Loading and moving the model to the device\n",
        "model_pegasus = AutoModelForSeq2SeqLM.from_pretrained(model_ckpt).to(device)\n",
        "\n",
        "# calling metrics function on the test subset\n",
        "score = calculate_metrics(test_subset, rouge_metric , model_pegasus, tokenizer, batch_size=8)"
      ]
    },
    {
      "cell_type": "code",
      "execution_count": 15,
      "metadata": {
        "colab": {
          "base_uri": "https://localhost:8080/",
          "height": 81
        },
        "id": "C1cIuU8wzOgX",
        "outputId": "e99322f7-57dd-4a95-f137-5fdeae969e95"
      },
      "outputs": [
        {
          "output_type": "execute_result",
          "data": {
            "text/plain": [
              "           rouge1    rouge2    rougeL  rougeLsum\n",
              "pegasus  0.475187  0.278272  0.374555   0.429171"
            ],
            "text/html": [
              "\n",
              "  <div id=\"df-bf464ea3-bf7f-4d8f-ac49-af9d51c5d287\">\n",
              "    <div class=\"colab-df-container\">\n",
              "      <div>\n",
              "<style scoped>\n",
              "    .dataframe tbody tr th:only-of-type {\n",
              "        vertical-align: middle;\n",
              "    }\n",
              "\n",
              "    .dataframe tbody tr th {\n",
              "        vertical-align: top;\n",
              "    }\n",
              "\n",
              "    .dataframe thead th {\n",
              "        text-align: right;\n",
              "    }\n",
              "</style>\n",
              "<table border=\"1\" class=\"dataframe\">\n",
              "  <thead>\n",
              "    <tr style=\"text-align: right;\">\n",
              "      <th></th>\n",
              "      <th>rouge1</th>\n",
              "      <th>rouge2</th>\n",
              "      <th>rougeL</th>\n",
              "      <th>rougeLsum</th>\n",
              "    </tr>\n",
              "  </thead>\n",
              "  <tbody>\n",
              "    <tr>\n",
              "      <th>pegasus</th>\n",
              "      <td>0.475187</td>\n",
              "      <td>0.278272</td>\n",
              "      <td>0.374555</td>\n",
              "      <td>0.429171</td>\n",
              "    </tr>\n",
              "  </tbody>\n",
              "</table>\n",
              "</div>\n",
              "      <button class=\"colab-df-convert\" onclick=\"convertToInteractive('df-bf464ea3-bf7f-4d8f-ac49-af9d51c5d287')\"\n",
              "              title=\"Convert this dataframe to an interactive table.\"\n",
              "              style=\"display:none;\">\n",
              "        \n",
              "  <svg xmlns=\"http://www.w3.org/2000/svg\" height=\"24px\"viewBox=\"0 0 24 24\"\n",
              "       width=\"24px\">\n",
              "    <path d=\"M0 0h24v24H0V0z\" fill=\"none\"/>\n",
              "    <path d=\"M18.56 5.44l.94 2.06.94-2.06 2.06-.94-2.06-.94-.94-2.06-.94 2.06-2.06.94zm-11 1L8.5 8.5l.94-2.06 2.06-.94-2.06-.94L8.5 2.5l-.94 2.06-2.06.94zm10 10l.94 2.06.94-2.06 2.06-.94-2.06-.94-.94-2.06-.94 2.06-2.06.94z\"/><path d=\"M17.41 7.96l-1.37-1.37c-.4-.4-.92-.59-1.43-.59-.52 0-1.04.2-1.43.59L10.3 9.45l-7.72 7.72c-.78.78-.78 2.05 0 2.83L4 21.41c.39.39.9.59 1.41.59.51 0 1.02-.2 1.41-.59l7.78-7.78 2.81-2.81c.8-.78.8-2.07 0-2.86zM5.41 20L4 18.59l7.72-7.72 1.47 1.35L5.41 20z\"/>\n",
              "  </svg>\n",
              "      </button>\n",
              "      \n",
              "  <style>\n",
              "    .colab-df-container {\n",
              "      display:flex;\n",
              "      flex-wrap:wrap;\n",
              "      gap: 12px;\n",
              "    }\n",
              "\n",
              "    .colab-df-convert {\n",
              "      background-color: #E8F0FE;\n",
              "      border: none;\n",
              "      border-radius: 50%;\n",
              "      cursor: pointer;\n",
              "      display: none;\n",
              "      fill: #1967D2;\n",
              "      height: 32px;\n",
              "      padding: 0 0 0 0;\n",
              "      width: 32px;\n",
              "    }\n",
              "\n",
              "    .colab-df-convert:hover {\n",
              "      background-color: #E2EBFA;\n",
              "      box-shadow: 0px 1px 2px rgba(60, 64, 67, 0.3), 0px 1px 3px 1px rgba(60, 64, 67, 0.15);\n",
              "      fill: #174EA6;\n",
              "    }\n",
              "\n",
              "    [theme=dark] .colab-df-convert {\n",
              "      background-color: #3B4455;\n",
              "      fill: #D2E3FC;\n",
              "    }\n",
              "\n",
              "    [theme=dark] .colab-df-convert:hover {\n",
              "      background-color: #434B5C;\n",
              "      box-shadow: 0px 1px 3px 1px rgba(0, 0, 0, 0.15);\n",
              "      filter: drop-shadow(0px 1px 2px rgba(0, 0, 0, 0.3));\n",
              "      fill: #FFFFFF;\n",
              "    }\n",
              "  </style>\n",
              "\n",
              "      <script>\n",
              "        const buttonEl =\n",
              "          document.querySelector('#df-bf464ea3-bf7f-4d8f-ac49-af9d51c5d287 button.colab-df-convert');\n",
              "        buttonEl.style.display =\n",
              "          google.colab.kernel.accessAllowed ? 'block' : 'none';\n",
              "\n",
              "        async function convertToInteractive(key) {\n",
              "          const element = document.querySelector('#df-bf464ea3-bf7f-4d8f-ac49-af9d51c5d287');\n",
              "          const dataTable =\n",
              "            await google.colab.kernel.invokeFunction('convertToInteractive',\n",
              "                                                     [key], {});\n",
              "          if (!dataTable) return;\n",
              "\n",
              "          const docLinkHtml = 'Like what you see? Visit the ' +\n",
              "            '<a target=\"_blank\" href=https://colab.research.google.com/notebooks/data_table.ipynb>data table notebook</a>'\n",
              "            + ' to learn more about interactive tables.';\n",
              "          element.innerHTML = '';\n",
              "          dataTable['output_type'] = 'display_data';\n",
              "          await google.colab.output.renderOutput(dataTable, element);\n",
              "          const docLink = document.createElement('div');\n",
              "          docLink.innerHTML = docLinkHtml;\n",
              "          element.appendChild(docLink);\n",
              "        }\n",
              "      </script>\n",
              "    </div>\n",
              "  </div>\n",
              "  "
            ]
          },
          "metadata": {},
          "execution_count": 15
        }
      ],
      "source": [
        "rouge_names= [\"rouge1\",\"rouge2\",\"rougeL\",\"rougeLsum\"]\n",
        "\n",
        "# creating a dictionary mapping each ROUGE metric name to its computed rouge\n",
        "# calculating the mid-level F1 score averaged across all examples in the dataset\n",
        "rouge_dict = dict((rn, score[rn].mid.fmeasure) for rn in rouge_names)\n",
        "\n",
        "# display rouge accuracy\n",
        "pd.DataFrame(rouge_dict, index=[\"pegasus\"])"
      ]
    }
  ],
  "metadata": {
    "accelerator": "GPU",
    "colab": {
      "provenance": []
    },
    "gpuClass": "standard",
    "kernelspec": {
      "display_name": "Python 3",
      "name": "python3"
    },
    "language_info": {
      "name": "python"
    },
    "widgets": {
      "application/vnd.jupyter.widget-state+json": {
        "9fbec41ba18d4c55924ed355be70245f": {
          "model_module": "@jupyter-widgets/controls",
          "model_name": "HBoxModel",
          "model_module_version": "1.5.0",
          "state": {
            "_dom_classes": [],
            "_model_module": "@jupyter-widgets/controls",
            "_model_module_version": "1.5.0",
            "_model_name": "HBoxModel",
            "_view_count": null,
            "_view_module": "@jupyter-widgets/controls",
            "_view_module_version": "1.5.0",
            "_view_name": "HBoxView",
            "box_style": "",
            "children": [
              "IPY_MODEL_81727946551e4060b946bff12409c818",
              "IPY_MODEL_5e99969751e44de3b080add9a3134163",
              "IPY_MODEL_5537b715f33c4612a6fa720e87045dcc"
            ],
            "layout": "IPY_MODEL_8f0c08a12f284bfc908d8b508913e403"
          }
        },
        "81727946551e4060b946bff12409c818": {
          "model_module": "@jupyter-widgets/controls",
          "model_name": "HTMLModel",
          "model_module_version": "1.5.0",
          "state": {
            "_dom_classes": [],
            "_model_module": "@jupyter-widgets/controls",
            "_model_module_version": "1.5.0",
            "_model_name": "HTMLModel",
            "_view_count": null,
            "_view_module": "@jupyter-widgets/controls",
            "_view_module_version": "1.5.0",
            "_view_name": "HTMLView",
            "description": "",
            "description_tooltip": null,
            "layout": "IPY_MODEL_ca1e2b184c60492db126bf698ec6272b",
            "placeholder": "​",
            "style": "IPY_MODEL_520bd6136ac54ace86415bf7bf64cd9d",
            "value": "100%"
          }
        },
        "5e99969751e44de3b080add9a3134163": {
          "model_module": "@jupyter-widgets/controls",
          "model_name": "FloatProgressModel",
          "model_module_version": "1.5.0",
          "state": {
            "_dom_classes": [],
            "_model_module": "@jupyter-widgets/controls",
            "_model_module_version": "1.5.0",
            "_model_name": "FloatProgressModel",
            "_view_count": null,
            "_view_module": "@jupyter-widgets/controls",
            "_view_module_version": "1.5.0",
            "_view_name": "ProgressView",
            "bar_style": "success",
            "description": "",
            "description_tooltip": null,
            "layout": "IPY_MODEL_48b617e612894d15a5872a4b9d1b4c4b",
            "max": 3,
            "min": 0,
            "orientation": "horizontal",
            "style": "IPY_MODEL_97b16ce6e64a4e0aa8bfa9e3dcfa4833",
            "value": 3
          }
        },
        "5537b715f33c4612a6fa720e87045dcc": {
          "model_module": "@jupyter-widgets/controls",
          "model_name": "HTMLModel",
          "model_module_version": "1.5.0",
          "state": {
            "_dom_classes": [],
            "_model_module": "@jupyter-widgets/controls",
            "_model_module_version": "1.5.0",
            "_model_name": "HTMLModel",
            "_view_count": null,
            "_view_module": "@jupyter-widgets/controls",
            "_view_module_version": "1.5.0",
            "_view_name": "HTMLView",
            "description": "",
            "description_tooltip": null,
            "layout": "IPY_MODEL_876af11d96c14bae8e0b28fc2d8e80ae",
            "placeholder": "​",
            "style": "IPY_MODEL_52639c505a40411393eae148560ab48f",
            "value": " 3/3 [00:01&lt;00:00,  1.52it/s]"
          }
        },
        "8f0c08a12f284bfc908d8b508913e403": {
          "model_module": "@jupyter-widgets/base",
          "model_name": "LayoutModel",
          "model_module_version": "1.2.0",
          "state": {
            "_model_module": "@jupyter-widgets/base",
            "_model_module_version": "1.2.0",
            "_model_name": "LayoutModel",
            "_view_count": null,
            "_view_module": "@jupyter-widgets/base",
            "_view_module_version": "1.2.0",
            "_view_name": "LayoutView",
            "align_content": null,
            "align_items": null,
            "align_self": null,
            "border": null,
            "bottom": null,
            "display": null,
            "flex": null,
            "flex_flow": null,
            "grid_area": null,
            "grid_auto_columns": null,
            "grid_auto_flow": null,
            "grid_auto_rows": null,
            "grid_column": null,
            "grid_gap": null,
            "grid_row": null,
            "grid_template_areas": null,
            "grid_template_columns": null,
            "grid_template_rows": null,
            "height": null,
            "justify_content": null,
            "justify_items": null,
            "left": null,
            "margin": null,
            "max_height": null,
            "max_width": null,
            "min_height": null,
            "min_width": null,
            "object_fit": null,
            "object_position": null,
            "order": null,
            "overflow": null,
            "overflow_x": null,
            "overflow_y": null,
            "padding": null,
            "right": null,
            "top": null,
            "visibility": null,
            "width": null
          }
        },
        "ca1e2b184c60492db126bf698ec6272b": {
          "model_module": "@jupyter-widgets/base",
          "model_name": "LayoutModel",
          "model_module_version": "1.2.0",
          "state": {
            "_model_module": "@jupyter-widgets/base",
            "_model_module_version": "1.2.0",
            "_model_name": "LayoutModel",
            "_view_count": null,
            "_view_module": "@jupyter-widgets/base",
            "_view_module_version": "1.2.0",
            "_view_name": "LayoutView",
            "align_content": null,
            "align_items": null,
            "align_self": null,
            "border": null,
            "bottom": null,
            "display": null,
            "flex": null,
            "flex_flow": null,
            "grid_area": null,
            "grid_auto_columns": null,
            "grid_auto_flow": null,
            "grid_auto_rows": null,
            "grid_column": null,
            "grid_gap": null,
            "grid_row": null,
            "grid_template_areas": null,
            "grid_template_columns": null,
            "grid_template_rows": null,
            "height": null,
            "justify_content": null,
            "justify_items": null,
            "left": null,
            "margin": null,
            "max_height": null,
            "max_width": null,
            "min_height": null,
            "min_width": null,
            "object_fit": null,
            "object_position": null,
            "order": null,
            "overflow": null,
            "overflow_x": null,
            "overflow_y": null,
            "padding": null,
            "right": null,
            "top": null,
            "visibility": null,
            "width": null
          }
        },
        "520bd6136ac54ace86415bf7bf64cd9d": {
          "model_module": "@jupyter-widgets/controls",
          "model_name": "DescriptionStyleModel",
          "model_module_version": "1.5.0",
          "state": {
            "_model_module": "@jupyter-widgets/controls",
            "_model_module_version": "1.5.0",
            "_model_name": "DescriptionStyleModel",
            "_view_count": null,
            "_view_module": "@jupyter-widgets/base",
            "_view_module_version": "1.2.0",
            "_view_name": "StyleView",
            "description_width": ""
          }
        },
        "48b617e612894d15a5872a4b9d1b4c4b": {
          "model_module": "@jupyter-widgets/base",
          "model_name": "LayoutModel",
          "model_module_version": "1.2.0",
          "state": {
            "_model_module": "@jupyter-widgets/base",
            "_model_module_version": "1.2.0",
            "_model_name": "LayoutModel",
            "_view_count": null,
            "_view_module": "@jupyter-widgets/base",
            "_view_module_version": "1.2.0",
            "_view_name": "LayoutView",
            "align_content": null,
            "align_items": null,
            "align_self": null,
            "border": null,
            "bottom": null,
            "display": null,
            "flex": null,
            "flex_flow": null,
            "grid_area": null,
            "grid_auto_columns": null,
            "grid_auto_flow": null,
            "grid_auto_rows": null,
            "grid_column": null,
            "grid_gap": null,
            "grid_row": null,
            "grid_template_areas": null,
            "grid_template_columns": null,
            "grid_template_rows": null,
            "height": null,
            "justify_content": null,
            "justify_items": null,
            "left": null,
            "margin": null,
            "max_height": null,
            "max_width": null,
            "min_height": null,
            "min_width": null,
            "object_fit": null,
            "object_position": null,
            "order": null,
            "overflow": null,
            "overflow_x": null,
            "overflow_y": null,
            "padding": null,
            "right": null,
            "top": null,
            "visibility": null,
            "width": null
          }
        },
        "97b16ce6e64a4e0aa8bfa9e3dcfa4833": {
          "model_module": "@jupyter-widgets/controls",
          "model_name": "ProgressStyleModel",
          "model_module_version": "1.5.0",
          "state": {
            "_model_module": "@jupyter-widgets/controls",
            "_model_module_version": "1.5.0",
            "_model_name": "ProgressStyleModel",
            "_view_count": null,
            "_view_module": "@jupyter-widgets/base",
            "_view_module_version": "1.2.0",
            "_view_name": "StyleView",
            "bar_color": null,
            "description_width": ""
          }
        },
        "876af11d96c14bae8e0b28fc2d8e80ae": {
          "model_module": "@jupyter-widgets/base",
          "model_name": "LayoutModel",
          "model_module_version": "1.2.0",
          "state": {
            "_model_module": "@jupyter-widgets/base",
            "_model_module_version": "1.2.0",
            "_model_name": "LayoutModel",
            "_view_count": null,
            "_view_module": "@jupyter-widgets/base",
            "_view_module_version": "1.2.0",
            "_view_name": "LayoutView",
            "align_content": null,
            "align_items": null,
            "align_self": null,
            "border": null,
            "bottom": null,
            "display": null,
            "flex": null,
            "flex_flow": null,
            "grid_area": null,
            "grid_auto_columns": null,
            "grid_auto_flow": null,
            "grid_auto_rows": null,
            "grid_column": null,
            "grid_gap": null,
            "grid_row": null,
            "grid_template_areas": null,
            "grid_template_columns": null,
            "grid_template_rows": null,
            "height": null,
            "justify_content": null,
            "justify_items": null,
            "left": null,
            "margin": null,
            "max_height": null,
            "max_width": null,
            "min_height": null,
            "min_width": null,
            "object_fit": null,
            "object_position": null,
            "order": null,
            "overflow": null,
            "overflow_x": null,
            "overflow_y": null,
            "padding": null,
            "right": null,
            "top": null,
            "visibility": null,
            "width": null
          }
        },
        "52639c505a40411393eae148560ab48f": {
          "model_module": "@jupyter-widgets/controls",
          "model_name": "DescriptionStyleModel",
          "model_module_version": "1.5.0",
          "state": {
            "_model_module": "@jupyter-widgets/controls",
            "_model_module_version": "1.5.0",
            "_model_name": "DescriptionStyleModel",
            "_view_count": null,
            "_view_module": "@jupyter-widgets/base",
            "_view_module_version": "1.2.0",
            "_view_name": "StyleView",
            "description_width": ""
          }
        }
      }
    }
  },
  "nbformat": 4,
  "nbformat_minor": 0
}